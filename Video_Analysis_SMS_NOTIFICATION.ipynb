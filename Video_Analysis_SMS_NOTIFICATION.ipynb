{
 "cells": [
  {
   "cell_type": "code",
   "execution_count": 1,
   "metadata": {},
   "outputs": [],
   "source": [
    "import numpy as np\n",
    "import cv2\n",
    "from tensorflow.keras.preprocessing import image\n",
    "from tensorflow.keras.models import load_model"
   ]
  },
  {
   "cell_type": "code",
   "execution_count": 2,
   "metadata": {},
   "outputs": [],
   "source": [
    "model = load_model('project_model.h5')"
   ]
  },
  {
   "cell_type": "code",
   "execution_count": 3,
   "metadata": {},
   "outputs": [],
   "source": [
    "\n",
    "\n",
    "#function for reading frame and predicting what is being seen\n",
    "def prediction(frame):\n",
    "    cv2.imwrite(\"image.jpg\",frame)\n",
    "    img = image.load_img(\"image.jpg\",target_size = (64,64)) \n",
    "    x = image.img_to_array(img)\n",
    "    x = np.expand_dims(x,axis=0)\n",
    "    pred = model.predict(x)\n",
    "    index = [\"domestic\", \"Human\", \"wild\"]\n",
    "    prediction = index[np.argmax(pred[0])]\n",
    "    \n",
    "    #returning the prediction\n",
    "    return prediction\n",
    "\n"
   ]
  },
  {
   "cell_type": "code",
   "execution_count": 4,
   "metadata": {},
   "outputs": [],
   "source": [
    "video = cv2.VideoCapture(0)"
   ]
  },
  {
   "cell_type": "code",
   "execution_count": 5,
   "metadata": {},
   "outputs": [
    {
     "name": "stdout",
     "output_type": "stream",
     "text": [
      "Wild Animal detected!\n"
     ]
    }
   ],
   "source": [
    "while(1): \n",
    "    success, frame = video.read()\n",
    "    pred = prediction(frame)\n",
    "    cv2.imshow(\"image\",frame)\n",
    "    #add sms alert for wild animal spotted. camera window will close automatically after detecting the wild animal\n",
    "    if pred == \"wild\":\n",
    "        print(\"Wild Animal detected!\")\n",
    "        break\n",
    "    #this is to close camera window (press q) manually\n",
    "    elif cv2.waitKey(1) & 0xFF == ord('q'):  \n",
    "        break\n",
    "video.release() \n",
    "cv2.destroyAllWindows()"
   ]
  },
  {
   "cell_type": "code",
   "execution_count": 6,
   "metadata": {},
   "outputs": [],
   "source": [
    "#import opencv\n",
    "import cv2\n",
    "#import numpy\n",
    "import numpy as np\n",
    "from keras.preprocessing import image\n",
    "from keras.models import load_model\n",
    "#import Client from twilio API\n",
    "from twilio.rest import Client\n",
    "#import playsound package\n",
    "from playsound import playsound"
   ]
  },
  {
   "cell_type": "code",
   "execution_count": 7,
   "metadata": {},
   "outputs": [
    {
     "name": "stdout",
     "output_type": "stream",
     "text": [
      "SM1eeb3ab8bed74c4d94010bad5ca37ef9\n"
     ]
    }
   ],
   "source": [
    "import os\n",
    "from twilio.rest import Client\n",
    "\n",
    "# Your Account Sid and Auth Token from twilio.com/console\n",
    "# DANGER! This is insecure. See http://twil.io/secure\n",
    "account_sid = 'AC32ca02697710b4319c9bcf20b41359f5'\n",
    "auth_token = 'bcaf302b321b1efe3867518a14b3adac'\n",
    "client = Client(account_sid, auth_token)\n",
    "\n",
    "message=client.messages.create(\n",
    "    from_= +12672230946,\n",
    "    to= +60142349682,\n",
    "    body=\"Hello world\")\n",
    "\n",
    "print(message.sid)"
   ]
  },
  {
   "cell_type": "code",
   "execution_count": 8,
   "metadata": {},
   "outputs": [
    {
     "name": "stderr",
     "output_type": "stream",
     "text": [
      "D:\\Users\\malsa\\anaconda3\\lib\\site-packages\\tensorflow\\python\\keras\\engine\\sequential.py:455: UserWarning: `model.predict_classes()` is deprecated and will be removed after 2021-01-01. Please use instead:* `np.argmax(model.predict(x), axis=-1)`,   if your model does multi-class classification   (e.g. if it uses a `softmax` last-layer activation).* `(model.predict(x) > 0.5).astype(\"int32\")`,   if your model does binary classification   (e.g. if it uses a `sigmoid` last-layer activation).\n",
      "  warnings.warn('`model.predict_classes()` is deprecated and '\n"
     ]
    },
    {
     "name": "stdout",
     "output_type": "stream",
     "text": [
      "SMc05b479625fd4eaf800d9991bc4229d2\n",
      "Danger!!\n",
      "Animal Detected\n",
      "SMS sent!\n"
     ]
    },
    {
     "name": "stderr",
     "output_type": "stream",
     "text": [
      "\n",
      "    Error 263 for command:\n",
      "        close Kacey.mp3\n",
      "    The specified device is not open or is not recognized by MCI.\n",
      "Failed to close the file: Kacey.mp3\n"
     ]
    }
   ],
   "source": [
    "#function for reading frame and predicting what is being seen\n",
    "cv2.imwrite(\"image.jpg\",frame)\n",
    "img = image.load_img(\"image.jpg\",target_size = (64,64)) \n",
    "x = image.img_to_array(img)\n",
    "x = np.expand_dims(x,axis=0)\n",
    "pred = model.predict(x)\n",
    "index = [\"domestic\", \"Human\", \"wild\"]\n",
    "prediction = index[np.argmax(pred[0])]\n",
    "\n",
    "    \n",
    "\n",
    "pred = model.predict_classes(x)\n",
    "if pred[0]==2:\n",
    "    #twilio account ssid\n",
    "    account_sid = 'AC32ca02697710b4319c9bcf20b41359f5'\n",
    "    #twilo account authentication toke\n",
    "    auth_token = 'bcaf302b321b1efe3867518a14b3adac'\n",
    "    client = Client (account_sid, auth_token)\n",
    "    message = client.messages\\\n",
    "    .create(\n",
    "    body='Danger!. Wild animal is detected, stay alert',\n",
    "    from_='+12672230946', #the free number of twilio\n",
    "    to='+60142349682')\n",
    "    print(message.sid)\n",
    "    print('Danger!!')\n",
    "    print(\"Animal Detected\")\n",
    "    print (\"SMS sent!\")\n",
    "    playsound(\"Kacey.mp3\", False)\n",
    "    #break\n",
    "else:\n",
    "    print(\"No Danger\")\n",
    "    #break\n",
    "cv2.imshow(\"image\",frame)\n",
    "if cv2.waitKey(1) & 0xFF == ord('a'):\n",
    "    video.release()\n",
    "    cv2.destroyAllWindows()"
   ]
  },
  {
   "cell_type": "code",
   "execution_count": null,
   "metadata": {},
   "outputs": [],
   "source": []
  }
 ],
 "metadata": {
  "kernelspec": {
   "display_name": "Python 3",
   "language": "python",
   "name": "python3"
  },
  "language_info": {
   "codemirror_mode": {
    "name": "ipython",
    "version": 3
   },
   "file_extension": ".py",
   "mimetype": "text/x-python",
   "name": "python",
   "nbconvert_exporter": "python",
   "pygments_lexer": "ipython3",
   "version": "3.8.5"
  }
 },
 "nbformat": 4,
 "nbformat_minor": 4
}
